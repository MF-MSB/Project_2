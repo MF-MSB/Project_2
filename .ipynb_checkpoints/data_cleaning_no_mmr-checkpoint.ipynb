{
 "cells": [
  {
   "cell_type": "code",
   "execution_count": 1,
   "id": "9e368dc1",
   "metadata": {},
   "outputs": [],
   "source": [
    "# Dependencies\n",
    "import pandas as pd\n",
    "import numpy as np\n",
    "import matplotlib.pyplot as plt\n",
    "from scipy import stats\n",
    "from sklearn.preprocessing import StandardScaler\n",
    "import seaborn as sns"
   ]
  },
  {
   "cell_type": "code",
   "execution_count": 2,
   "id": "8d4088bf",
   "metadata": {
    "scrolled": true
   },
   "outputs": [
    {
     "data": {
      "text/html": [
       "<div>\n",
       "<style scoped>\n",
       "    .dataframe tbody tr th:only-of-type {\n",
       "        vertical-align: middle;\n",
       "    }\n",
       "\n",
       "    .dataframe tbody tr th {\n",
       "        vertical-align: top;\n",
       "    }\n",
       "\n",
       "    .dataframe thead th {\n",
       "        text-align: right;\n",
       "    }\n",
       "</style>\n",
       "<table border=\"1\" class=\"dataframe\">\n",
       "  <thead>\n",
       "    <tr style=\"text-align: right;\">\n",
       "      <th></th>\n",
       "      <th>year</th>\n",
       "      <th>make</th>\n",
       "      <th>model</th>\n",
       "      <th>trim</th>\n",
       "      <th>body</th>\n",
       "      <th>transmission</th>\n",
       "      <th>vin</th>\n",
       "      <th>state</th>\n",
       "      <th>condition</th>\n",
       "      <th>odometer</th>\n",
       "      <th>color</th>\n",
       "      <th>interior</th>\n",
       "      <th>seller</th>\n",
       "      <th>mmr</th>\n",
       "      <th>sellingprice</th>\n",
       "      <th>saledate</th>\n",
       "    </tr>\n",
       "  </thead>\n",
       "  <tbody>\n",
       "    <tr>\n",
       "      <th>0</th>\n",
       "      <td>2015</td>\n",
       "      <td>Kia</td>\n",
       "      <td>Sorento</td>\n",
       "      <td>LX</td>\n",
       "      <td>SUV</td>\n",
       "      <td>automatic</td>\n",
       "      <td>5xyktca69fg566472</td>\n",
       "      <td>ca</td>\n",
       "      <td>5.0</td>\n",
       "      <td>16639.0</td>\n",
       "      <td>white</td>\n",
       "      <td>black</td>\n",
       "      <td>kia motors america  inc</td>\n",
       "      <td>20500.0</td>\n",
       "      <td>21500.0</td>\n",
       "      <td>Tue Dec 16 2014 12:30:00 GMT-0800 (PST)</td>\n",
       "    </tr>\n",
       "    <tr>\n",
       "      <th>1</th>\n",
       "      <td>2015</td>\n",
       "      <td>Kia</td>\n",
       "      <td>Sorento</td>\n",
       "      <td>LX</td>\n",
       "      <td>SUV</td>\n",
       "      <td>automatic</td>\n",
       "      <td>5xyktca69fg561319</td>\n",
       "      <td>ca</td>\n",
       "      <td>5.0</td>\n",
       "      <td>9393.0</td>\n",
       "      <td>white</td>\n",
       "      <td>beige</td>\n",
       "      <td>kia motors america  inc</td>\n",
       "      <td>20800.0</td>\n",
       "      <td>21500.0</td>\n",
       "      <td>Tue Dec 16 2014 12:30:00 GMT-0800 (PST)</td>\n",
       "    </tr>\n",
       "    <tr>\n",
       "      <th>2</th>\n",
       "      <td>2014</td>\n",
       "      <td>BMW</td>\n",
       "      <td>3 Series</td>\n",
       "      <td>328i SULEV</td>\n",
       "      <td>Sedan</td>\n",
       "      <td>automatic</td>\n",
       "      <td>wba3c1c51ek116351</td>\n",
       "      <td>ca</td>\n",
       "      <td>45.0</td>\n",
       "      <td>1331.0</td>\n",
       "      <td>gray</td>\n",
       "      <td>black</td>\n",
       "      <td>financial services remarketing (lease)</td>\n",
       "      <td>31900.0</td>\n",
       "      <td>30000.0</td>\n",
       "      <td>Thu Jan 15 2015 04:30:00 GMT-0800 (PST)</td>\n",
       "    </tr>\n",
       "    <tr>\n",
       "      <th>3</th>\n",
       "      <td>2015</td>\n",
       "      <td>Volvo</td>\n",
       "      <td>S60</td>\n",
       "      <td>T5</td>\n",
       "      <td>Sedan</td>\n",
       "      <td>automatic</td>\n",
       "      <td>yv1612tb4f1310987</td>\n",
       "      <td>ca</td>\n",
       "      <td>41.0</td>\n",
       "      <td>14282.0</td>\n",
       "      <td>white</td>\n",
       "      <td>black</td>\n",
       "      <td>volvo na rep/world omni</td>\n",
       "      <td>27500.0</td>\n",
       "      <td>27750.0</td>\n",
       "      <td>Thu Jan 29 2015 04:30:00 GMT-0800 (PST)</td>\n",
       "    </tr>\n",
       "    <tr>\n",
       "      <th>4</th>\n",
       "      <td>2014</td>\n",
       "      <td>BMW</td>\n",
       "      <td>6 Series Gran Coupe</td>\n",
       "      <td>650i</td>\n",
       "      <td>Sedan</td>\n",
       "      <td>automatic</td>\n",
       "      <td>wba6b2c57ed129731</td>\n",
       "      <td>ca</td>\n",
       "      <td>43.0</td>\n",
       "      <td>2641.0</td>\n",
       "      <td>gray</td>\n",
       "      <td>black</td>\n",
       "      <td>financial services remarketing (lease)</td>\n",
       "      <td>66000.0</td>\n",
       "      <td>67000.0</td>\n",
       "      <td>Thu Dec 18 2014 12:30:00 GMT-0800 (PST)</td>\n",
       "    </tr>\n",
       "  </tbody>\n",
       "</table>\n",
       "</div>"
      ],
      "text/plain": [
       "   year   make                model        trim   body transmission  \\\n",
       "0  2015    Kia              Sorento          LX    SUV    automatic   \n",
       "1  2015    Kia              Sorento          LX    SUV    automatic   \n",
       "2  2014    BMW             3 Series  328i SULEV  Sedan    automatic   \n",
       "3  2015  Volvo                  S60          T5  Sedan    automatic   \n",
       "4  2014    BMW  6 Series Gran Coupe        650i  Sedan    automatic   \n",
       "\n",
       "                 vin state  condition  odometer  color interior  \\\n",
       "0  5xyktca69fg566472    ca        5.0   16639.0  white    black   \n",
       "1  5xyktca69fg561319    ca        5.0    9393.0  white    beige   \n",
       "2  wba3c1c51ek116351    ca       45.0    1331.0   gray    black   \n",
       "3  yv1612tb4f1310987    ca       41.0   14282.0  white    black   \n",
       "4  wba6b2c57ed129731    ca       43.0    2641.0   gray    black   \n",
       "\n",
       "                                   seller      mmr  sellingprice  \\\n",
       "0                 kia motors america  inc  20500.0       21500.0   \n",
       "1                 kia motors america  inc  20800.0       21500.0   \n",
       "2  financial services remarketing (lease)  31900.0       30000.0   \n",
       "3                 volvo na rep/world omni  27500.0       27750.0   \n",
       "4  financial services remarketing (lease)  66000.0       67000.0   \n",
       "\n",
       "                                  saledate  \n",
       "0  Tue Dec 16 2014 12:30:00 GMT-0800 (PST)  \n",
       "1  Tue Dec 16 2014 12:30:00 GMT-0800 (PST)  \n",
       "2  Thu Jan 15 2015 04:30:00 GMT-0800 (PST)  \n",
       "3  Thu Jan 29 2015 04:30:00 GMT-0800 (PST)  \n",
       "4  Thu Dec 18 2014 12:30:00 GMT-0800 (PST)  "
      ]
     },
     "execution_count": 2,
     "metadata": {},
     "output_type": "execute_result"
    }
   ],
   "source": [
    "# Data source acknowledgement https://www.kaggle.com/datasets/syedanwarafridi/vehicle-sales-data/data\n",
    "# The key data attributes are The \"Vehicle Sales and Market Trends Dataset\" provides a comprehensive \n",
    "# collection of information pertaining to the sales transactions of various vehicles. This dataset \n",
    "# encompasses details such as the year, make, model, trim, body type, transmission type, VIN \n",
    "# (Vehicle Identification Number), state of registration, condition rating, odometer reading, exterior \n",
    "# and interior colors, seller information, Manheim Market Report (MMR) values, selling prices, and sale dates.\n",
    "\n",
    "df = pd.read_csv('Resources/car_prices.csv')\n",
    "df.head(5)"
   ]
  },
  {
   "cell_type": "code",
   "execution_count": 3,
   "id": "1f8a3799",
   "metadata": {},
   "outputs": [
    {
     "name": "stdout",
     "output_type": "stream",
     "text": [
      "<class 'pandas.core.frame.DataFrame'>\n",
      "RangeIndex: 558837 entries, 0 to 558836\n",
      "Data columns (total 16 columns):\n",
      " #   Column        Non-Null Count   Dtype  \n",
      "---  ------        --------------   -----  \n",
      " 0   year          558837 non-null  int64  \n",
      " 1   make          548536 non-null  object \n",
      " 2   model         548438 non-null  object \n",
      " 3   trim          548186 non-null  object \n",
      " 4   body          545642 non-null  object \n",
      " 5   transmission  493485 non-null  object \n",
      " 6   vin           558833 non-null  object \n",
      " 7   state         558837 non-null  object \n",
      " 8   condition     547017 non-null  float64\n",
      " 9   odometer      558743 non-null  float64\n",
      " 10  color         558088 non-null  object \n",
      " 11  interior      558088 non-null  object \n",
      " 12  seller        558837 non-null  object \n",
      " 13  mmr           558799 non-null  float64\n",
      " 14  sellingprice  558825 non-null  float64\n",
      " 15  saledate      558825 non-null  object \n",
      "dtypes: float64(4), int64(1), object(11)\n",
      "memory usage: 68.2+ MB\n"
     ]
    }
   ],
   "source": [
    "df.info()"
   ]
  },
  {
   "cell_type": "code",
   "execution_count": 4,
   "id": "77a35015",
   "metadata": {},
   "outputs": [
    {
     "data": {
      "text/plain": [
       "Index(['year', 'make', 'model', 'trim', 'body', 'transmission', 'vin', 'state',\n",
       "       'condition', 'odometer', 'color', 'interior', 'seller', 'mmr',\n",
       "       'sellingprice', 'saledate'],\n",
       "      dtype='object')"
      ]
     },
     "execution_count": 4,
     "metadata": {},
     "output_type": "execute_result"
    }
   ],
   "source": [
    "# Extract list of column headers\n",
    "df.columns"
   ]
  },
  {
   "cell_type": "code",
   "execution_count": 5,
   "id": "e88e22ec",
   "metadata": {},
   "outputs": [
    {
     "name": "stdout",
     "output_type": "stream",
     "text": [
      "year                0\n",
      "make            10301\n",
      "model           10399\n",
      "trim            10651\n",
      "body            13195\n",
      "transmission    65352\n",
      "vin                 4\n",
      "state               0\n",
      "condition       11820\n",
      "odometer           94\n",
      "color             749\n",
      "interior          749\n",
      "seller              0\n",
      "mmr                38\n",
      "sellingprice       12\n",
      "saledate           12\n",
      "dtype: int64\n"
     ]
    }
   ],
   "source": [
    "# Look for null values\n",
    "print(df.isnull().sum())"
   ]
  },
  {
   "cell_type": "code",
   "execution_count": 6,
   "id": "371c8bed",
   "metadata": {},
   "outputs": [
    {
     "data": {
      "text/plain": [
       "array([2015, 2014, 2013, 2012, 2011, 2010, 2009, 2008, 2007, 2006, 2005,\n",
       "       2004, 2003, 2002, 2001, 2000, 1999, 1998, 1995, 1996, 1997, 1987,\n",
       "       1994, 1993, 1992, 1989, 1991, 1990, 1986, 1985, 1988, 1984, 1982,\n",
       "       1983], dtype=int64)"
      ]
     },
     "execution_count": 6,
     "metadata": {},
     "output_type": "execute_result"
    }
   ],
   "source": [
    "df['year'].unique()"
   ]
  },
  {
   "cell_type": "code",
   "execution_count": 7,
   "id": "994e5f9b",
   "metadata": {},
   "outputs": [],
   "source": [
    "df = df.dropna(subset=['make','mmr', 'odometer','condition','model']).reset_index(drop=True)"
   ]
  },
  {
   "cell_type": "code",
   "execution_count": 8,
   "id": "b5e9a197",
   "metadata": {},
   "outputs": [],
   "source": [
    "replacement_make_dict = {\n",
    "    'lincoln': 'Lincoln',\n",
    "    'bmw': 'BMW',\n",
    "    'pontiac': 'Pontiac',\n",
    "    'suzuki': 'Suzuki',\n",
    "    'kia': 'Kia',\n",
    "    'ford': 'Ford',\n",
    "    'mitsubishi': 'Mitsubishi',\n",
    "    'smart': 'Smart',\n",
    "    'chevrolet': 'Chevrolet',\n",
    "    'chrysler': 'Chrysler',\n",
    "    'landrover': 'Land Rover',\n",
    "    'cadillac': 'Cadillac',\n",
    "    'land rover': 'Land Rover',\n",
    "    'Landrover': 'Land Rover',\n",
    "    'mercedes': 'Mercedes-Benz',\n",
    "    'Mercedes': 'Mercedes-Benz',\n",
    "    'mazda': 'Mazda',\n",
    "    'toyota': 'Toyota',\n",
    "    'lexus': 'Lexus',\n",
    "    'honda': 'Honda',\n",
    "    'nissan': 'Nissan',\n",
    "    'porsche': 'Porsche',\n",
    "    'dodge': 'Dodge',\n",
    "    'subaru': 'Subaru',\n",
    "    'oldsmobile': 'Oldsmobile',\n",
    "    'hyundai': 'Hyundai',\n",
    "    'jeep': 'Jeep',\n",
    "    'acura': 'Acura',\n",
    "    'volkswagen': 'Volkswagen',\n",
    "    'audi': 'Audi',\n",
    "    'gmc': 'GMC',\n",
    "    'maserati':  'Maserati',\n",
    "    'mercury': 'Mercury',\n",
    "    'buick': 'Buick',\n",
    "    'vw': 'Volkswagen',\n",
    "    'plymouth': 'Plymouth',\n",
    "    'dodge tk': 'Dodge',\n",
    "    'mazda tk': 'Mazda',\n",
    "    'hyundai tk': 'Hyundai',\n",
    "    'mercedes-b': 'Mercedes-Benz',\n",
    "    'chev truck': 'Chevrolet',\n",
    "    'ford tk': 'Ford',\n",
    "    'ford truck': 'Ford',\n",
    "    'airstream': 'Airstream',\n",
    "    'dot':'Dodge',\n",
    "    'gmc truck': 'GMC'\n",
    "    \n",
    "    # Add more replacements as needed\n",
    "}\n",
    "\n",
    "df['make'] = df['make'].replace(replacement_make_dict)"
   ]
  },
  {
   "cell_type": "code",
   "execution_count": 9,
   "id": "833bccf5",
   "metadata": {},
   "outputs": [],
   "source": [
    "replacement_body_dict = {\n",
    "    'Beetle Convertible': 'Convertible',\n",
    "    'CTS Coupe': 'Coupe',\n",
    "    'CTS Wagon': 'Wagon',\n",
    "    'CTS-V Coupe': 'Coupe',\n",
    "    'CTS-V Wagon': 'Wagon',\n",
    "    'E-Series Van': 'Van',\n",
    "    'Elantra Coupe': 'Coupe',\n",
    "    'G Convertible': 'Convertible',\n",
    "    'G Coupe': 'Coupe',\n",
    "    'G Sedan': 'Sedan',\n",
    "    'G37 Convertible': 'Convertible',\n",
    "    'G37 Coupe': 'Coupe',\n",
    "    'Genesis Coupe': 'Coupe',\n",
    "    'GranTurismo Convertible': 'Convertible',\n",
    "    'Koup': 'Coupe',\n",
    "    'Promaster Cargo Van': 'Van',\n",
    "    'Q60 Convertible': 'Convertible',\n",
    "    'Q60 Coupe': 'Coupe',\n",
    "    'TSX Sport Wagon': 'Wagon',\n",
    "    'Transit Van' : 'Van',\n",
    "    'beetle convertible': 'Convertible',\n",
    "    'convertible': 'Convertible',\n",
    "    'coupe': 'Coupe',\n",
    "    'cts coupe': 'Coupe',\n",
    "    'cts wagon': 'Wagon',\n",
    "    'cts-v coupe': 'Coupe',\n",
    "    'e-series van': 'Van',\n",
    "    'elantra coupe': 'Coupe',\n",
    "    'g convertible': 'Convertible',\n",
    "    'g coupe': 'Coupe',\n",
    "    'g sedan': 'Sedan',\n",
    "    'g37 convertible': 'Convertible',\n",
    "    'g37 coupe': 'Coupe',\n",
    "    'genesis coupe': 'Coupe',\n",
    "    'granturismo convertible':'Convertible',\n",
    "    'minivan': 'Minivan',\n",
    "    'promaster cargo van': 'Van',\n",
    "    'q60 convertible': 'Convertible',\n",
    "    'q60 coupe': 'Coupe',\n",
    "    'sedan': 'Sedan',\n",
    "    'suv': 'SUV',\n",
    "    'transit van': 'Van',\n",
    "    'tsx sport wagon': 'Wagon',\n",
    "    'van': 'Van',\n",
    "    'wagon': 'Wagon',\n",
    "    'koup': 'Coupe',\n",
    "    'Ram Van': 'Van',\n",
    "    'hatchback': 'Hatchback',\n",
    "    'Double Cab': 'Crew_Truck',\n",
    "    'CrewMax Cab': 'Crew_Truck',\n",
    "    'Access Cab': 'Ext_Truck',\n",
    "    'King Cab': 'Crew_Truck',\n",
    "    'SuperCrew': 'Crew_Truck',\n",
    "    'Extended Cab': 'Ext_Truck',\n",
    "    'SuperCab': 'Crew_Truck',\n",
    "    'Regular Cab': 'Truck',\n",
    "    'Quad Cab': 'Crew_Truck',\n",
    "    'Club Cab': 'Crew_Truck',\n",
    "    'Xtracab': 'Ext_Truck',\n",
    "    'Mega Cab': 'Crew_Truck',\n",
    "    'Cab Plus 4': 'Ext_Truck',\n",
    "    'Cab Plus': 'Ext_Truck',\n",
    "    'regular-cab': 'Truck',\n",
    "    'king cab': 'Crew_Truck',\n",
    "    'supercrew': 'Crew_Truck',\n",
    "    'crew cab': 'Crew_Truck',\n",
    "    'double cab': 'Crew_Truck',\n",
    "    'regular cab': 'Truck',\n",
    "    'quad cab': 'Crew_Truck',\n",
    "    'supercab': 'Ext_Truck',\n",
    "    'extended cab': 'Ext_Truck',\n",
    "    'crewmax cab': 'Crew_Truck',\n",
    "    'access cab': 'Ext_Truck',\n",
    "    'mega cab': 'Crew_Truck',\n",
    "    'xtracab': 'Ext_Truck',\n",
    "    'club cab': 'Crew_Truck',\n",
    "    'cab plus 4': 'Ext_Truck',\n",
    "    'Crew Cab': 'Crew_Truck', \n",
    "    }\n",
    "\n",
    "df['body'] = df['body'].replace(replacement_body_dict)"
   ]
  },
  {
   "cell_type": "code",
   "execution_count": 10,
   "id": "d54c3588",
   "metadata": {},
   "outputs": [
    {
     "data": {
      "text/plain": [
       "array(['SUV', 'Sedan', 'Convertible', 'Coupe', 'Wagon', 'Hatchback',\n",
       "       'Crew_Truck', 'Minivan', nan, 'Van', 'Ext_Truck', 'Truck'],\n",
       "      dtype=object)"
      ]
     },
     "execution_count": 10,
     "metadata": {},
     "output_type": "execute_result"
    }
   ],
   "source": [
    "df['body'].unique()"
   ]
  },
  {
   "cell_type": "code",
   "execution_count": 11,
   "id": "10ba9247",
   "metadata": {},
   "outputs": [
    {
     "data": {
      "text/plain": [
       "array(['Kia', 'BMW', 'Volvo', 'Nissan', 'Chevrolet', 'Audi', 'Ford',\n",
       "       'Buick', 'Cadillac', 'Acura', 'Lexus', 'Hyundai', 'Infiniti',\n",
       "       'Jeep', 'Mercedes-Benz', 'Mitsubishi', 'Mazda', 'MINI',\n",
       "       'Land Rover', 'Lincoln', 'Jaguar', 'Volkswagen', 'Toyota',\n",
       "       'Subaru', 'Scion', 'Porsche', 'Dodge', 'FIAT', 'Chrysler',\n",
       "       'Ferrari', 'Honda', 'GMC', 'Ram', 'Smart', 'Bentley', 'Pontiac',\n",
       "       'Saturn', 'Maserati', 'Mercury', 'HUMMER', 'Saab', 'Suzuki',\n",
       "       'Oldsmobile', 'Geo', 'Rolls-Royce', 'Isuzu', 'Plymouth', 'Tesla',\n",
       "       'Airstream', 'Aston Martin', 'Fisker', 'Daewoo', 'Lamborghini',\n",
       "       'Lotus'], dtype=object)"
      ]
     },
     "execution_count": 11,
     "metadata": {},
     "output_type": "execute_result"
    }
   ],
   "source": [
    "df['make'].unique()"
   ]
  },
  {
   "cell_type": "code",
   "execution_count": 12,
   "id": "37c48884",
   "metadata": {},
   "outputs": [],
   "source": [
    "# List of makes to be removed\n",
    "makes_to_remove = ['Maserati', 'Bentley', 'Plymouth', 'Aston Martin', 'Tesla', 'Ferrari', 'Geo', \n",
    "                   'Rolls-Royce', 'Fisker', 'Lamborghini', 'Daewoo', 'Airstream', 'Lotus']\n",
    "\n",
    "# Directly modify df by filtering out the unwanted rows\n",
    "df = df[~df['make'].isin(makes_to_remove)]\n"
   ]
  },
  {
   "cell_type": "code",
   "execution_count": 13,
   "id": "ae8a26fb",
   "metadata": {},
   "outputs": [],
   "source": [
    "df = df.dropna(subset=['body']).reset_index(drop=True)"
   ]
  },
  {
   "cell_type": "code",
   "execution_count": 14,
   "id": "fc3d6f3b",
   "metadata": {},
   "outputs": [],
   "source": [
    "# Filter out rows where 'transmission' is 'sedan' (case-insensitive) and drop NaN values in 'transmission'\n",
    "df = df[df['transmission'].notna() & (df['transmission'].str.lower() != 'sedan')]\n"
   ]
  },
  {
   "cell_type": "code",
   "execution_count": 15,
   "id": "ec0e0391",
   "metadata": {},
   "outputs": [],
   "source": [
    "df = df[(df['color'].notna()) & (df['color'] != '—')]"
   ]
  },
  {
   "cell_type": "code",
   "execution_count": 16,
   "id": "7f3bb292",
   "metadata": {},
   "outputs": [],
   "source": [
    "df['color'] = df['color'].replace({'off-white': 'cream'})\n",
    "\n"
   ]
  },
  {
   "cell_type": "code",
   "execution_count": 17,
   "id": "3e9827c7",
   "metadata": {},
   "outputs": [
    {
     "name": "stdout",
     "output_type": "stream",
     "text": [
      "['black' 'beige' 'tan' 'brown' '—' 'gray' 'burgundy' 'white' 'silver'\n",
      " 'off-white' 'red' 'yellow' 'green' 'purple' 'blue' 'orange' 'gold']\n"
     ]
    }
   ],
   "source": [
    "unique_interior = df['interior'].unique()\n",
    "print(unique_interior)"
   ]
  },
  {
   "cell_type": "code",
   "execution_count": 18,
   "id": "71e16488",
   "metadata": {},
   "outputs": [],
   "source": [
    "df['interior'] = df['interior'].replace({'off-white': 'cream'})\n",
    "\n"
   ]
  },
  {
   "cell_type": "code",
   "execution_count": 19,
   "id": "20be775e",
   "metadata": {},
   "outputs": [],
   "source": [
    "df = df[(df['interior'].notna()) & (df['interior'] != '—')]"
   ]
  },
  {
   "cell_type": "code",
   "execution_count": 20,
   "id": "0cb0ce35",
   "metadata": {},
   "outputs": [
    {
     "name": "stdout",
     "output_type": "stream",
     "text": [
      "year            0\n",
      "make            0\n",
      "model           0\n",
      "trim            0\n",
      "body            0\n",
      "transmission    0\n",
      "vin             0\n",
      "state           0\n",
      "condition       0\n",
      "odometer        0\n",
      "color           0\n",
      "interior        0\n",
      "seller          0\n",
      "mmr             0\n",
      "sellingprice    0\n",
      "saledate        0\n",
      "dtype: int64\n"
     ]
    }
   ],
   "source": [
    "# Look for null values\n",
    "print(df.isnull().sum())"
   ]
  },
  {
   "cell_type": "code",
   "execution_count": 21,
   "id": "51497d49",
   "metadata": {},
   "outputs": [],
   "source": [
    "df.reset_index(drop=True, inplace=True)"
   ]
  },
  {
   "cell_type": "code",
   "execution_count": 22,
   "id": "5a94fdc7",
   "metadata": {},
   "outputs": [
    {
     "data": {
      "text/html": [
       "<div>\n",
       "<style scoped>\n",
       "    .dataframe tbody tr th:only-of-type {\n",
       "        vertical-align: middle;\n",
       "    }\n",
       "\n",
       "    .dataframe tbody tr th {\n",
       "        vertical-align: top;\n",
       "    }\n",
       "\n",
       "    .dataframe thead th {\n",
       "        text-align: right;\n",
       "    }\n",
       "</style>\n",
       "<table border=\"1\" class=\"dataframe\">\n",
       "  <thead>\n",
       "    <tr style=\"text-align: right;\">\n",
       "      <th></th>\n",
       "      <th>year</th>\n",
       "      <th>make</th>\n",
       "      <th>model</th>\n",
       "      <th>trim</th>\n",
       "      <th>body</th>\n",
       "      <th>transmission</th>\n",
       "      <th>vin</th>\n",
       "      <th>state</th>\n",
       "      <th>condition</th>\n",
       "      <th>odometer</th>\n",
       "      <th>color</th>\n",
       "      <th>interior</th>\n",
       "      <th>seller</th>\n",
       "      <th>mmr</th>\n",
       "      <th>sellingprice</th>\n",
       "      <th>saledate</th>\n",
       "    </tr>\n",
       "  </thead>\n",
       "  <tbody>\n",
       "    <tr>\n",
       "      <th>0</th>\n",
       "      <td>2015</td>\n",
       "      <td>Kia</td>\n",
       "      <td>Sorento</td>\n",
       "      <td>LX</td>\n",
       "      <td>SUV</td>\n",
       "      <td>automatic</td>\n",
       "      <td>5xyktca69fg566472</td>\n",
       "      <td>ca</td>\n",
       "      <td>5.0</td>\n",
       "      <td>16639.0</td>\n",
       "      <td>white</td>\n",
       "      <td>black</td>\n",
       "      <td>kia motors america  inc</td>\n",
       "      <td>20500.0</td>\n",
       "      <td>21500.0</td>\n",
       "      <td>Tue Dec 16 2014 12:30:00 GMT-0800 (PST)</td>\n",
       "    </tr>\n",
       "    <tr>\n",
       "      <th>1</th>\n",
       "      <td>2015</td>\n",
       "      <td>Kia</td>\n",
       "      <td>Sorento</td>\n",
       "      <td>LX</td>\n",
       "      <td>SUV</td>\n",
       "      <td>automatic</td>\n",
       "      <td>5xyktca69fg561319</td>\n",
       "      <td>ca</td>\n",
       "      <td>5.0</td>\n",
       "      <td>9393.0</td>\n",
       "      <td>white</td>\n",
       "      <td>beige</td>\n",
       "      <td>kia motors america  inc</td>\n",
       "      <td>20800.0</td>\n",
       "      <td>21500.0</td>\n",
       "      <td>Tue Dec 16 2014 12:30:00 GMT-0800 (PST)</td>\n",
       "    </tr>\n",
       "    <tr>\n",
       "      <th>2</th>\n",
       "      <td>2014</td>\n",
       "      <td>BMW</td>\n",
       "      <td>3 Series</td>\n",
       "      <td>328i SULEV</td>\n",
       "      <td>Sedan</td>\n",
       "      <td>automatic</td>\n",
       "      <td>wba3c1c51ek116351</td>\n",
       "      <td>ca</td>\n",
       "      <td>45.0</td>\n",
       "      <td>1331.0</td>\n",
       "      <td>gray</td>\n",
       "      <td>black</td>\n",
       "      <td>financial services remarketing (lease)</td>\n",
       "      <td>31900.0</td>\n",
       "      <td>30000.0</td>\n",
       "      <td>Thu Jan 15 2015 04:30:00 GMT-0800 (PST)</td>\n",
       "    </tr>\n",
       "    <tr>\n",
       "      <th>3</th>\n",
       "      <td>2015</td>\n",
       "      <td>Volvo</td>\n",
       "      <td>S60</td>\n",
       "      <td>T5</td>\n",
       "      <td>Sedan</td>\n",
       "      <td>automatic</td>\n",
       "      <td>yv1612tb4f1310987</td>\n",
       "      <td>ca</td>\n",
       "      <td>41.0</td>\n",
       "      <td>14282.0</td>\n",
       "      <td>white</td>\n",
       "      <td>black</td>\n",
       "      <td>volvo na rep/world omni</td>\n",
       "      <td>27500.0</td>\n",
       "      <td>27750.0</td>\n",
       "      <td>Thu Jan 29 2015 04:30:00 GMT-0800 (PST)</td>\n",
       "    </tr>\n",
       "    <tr>\n",
       "      <th>4</th>\n",
       "      <td>2014</td>\n",
       "      <td>BMW</td>\n",
       "      <td>6 Series Gran Coupe</td>\n",
       "      <td>650i</td>\n",
       "      <td>Sedan</td>\n",
       "      <td>automatic</td>\n",
       "      <td>wba6b2c57ed129731</td>\n",
       "      <td>ca</td>\n",
       "      <td>43.0</td>\n",
       "      <td>2641.0</td>\n",
       "      <td>gray</td>\n",
       "      <td>black</td>\n",
       "      <td>financial services remarketing (lease)</td>\n",
       "      <td>66000.0</td>\n",
       "      <td>67000.0</td>\n",
       "      <td>Thu Dec 18 2014 12:30:00 GMT-0800 (PST)</td>\n",
       "    </tr>\n",
       "  </tbody>\n",
       "</table>\n",
       "</div>"
      ],
      "text/plain": [
       "   year   make                model        trim   body transmission  \\\n",
       "0  2015    Kia              Sorento          LX    SUV    automatic   \n",
       "1  2015    Kia              Sorento          LX    SUV    automatic   \n",
       "2  2014    BMW             3 Series  328i SULEV  Sedan    automatic   \n",
       "3  2015  Volvo                  S60          T5  Sedan    automatic   \n",
       "4  2014    BMW  6 Series Gran Coupe        650i  Sedan    automatic   \n",
       "\n",
       "                 vin state  condition  odometer  color interior  \\\n",
       "0  5xyktca69fg566472    ca        5.0   16639.0  white    black   \n",
       "1  5xyktca69fg561319    ca        5.0    9393.0  white    beige   \n",
       "2  wba3c1c51ek116351    ca       45.0    1331.0   gray    black   \n",
       "3  yv1612tb4f1310987    ca       41.0   14282.0  white    black   \n",
       "4  wba6b2c57ed129731    ca       43.0    2641.0   gray    black   \n",
       "\n",
       "                                   seller      mmr  sellingprice  \\\n",
       "0                 kia motors america  inc  20500.0       21500.0   \n",
       "1                 kia motors america  inc  20800.0       21500.0   \n",
       "2  financial services remarketing (lease)  31900.0       30000.0   \n",
       "3                 volvo na rep/world omni  27500.0       27750.0   \n",
       "4  financial services remarketing (lease)  66000.0       67000.0   \n",
       "\n",
       "                                  saledate  \n",
       "0  Tue Dec 16 2014 12:30:00 GMT-0800 (PST)  \n",
       "1  Tue Dec 16 2014 12:30:00 GMT-0800 (PST)  \n",
       "2  Thu Jan 15 2015 04:30:00 GMT-0800 (PST)  \n",
       "3  Thu Jan 29 2015 04:30:00 GMT-0800 (PST)  \n",
       "4  Thu Dec 18 2014 12:30:00 GMT-0800 (PST)  "
      ]
     },
     "execution_count": 22,
     "metadata": {},
     "output_type": "execute_result"
    }
   ],
   "source": [
    "df.head()"
   ]
  },
  {
   "cell_type": "code",
   "execution_count": 23,
   "id": "c504ab8b",
   "metadata": {},
   "outputs": [],
   "source": [
    "df = df.drop(['vin', 'saledate', 'condition', 'seller', 'trim', 'model', 'state' ], axis=1)"
   ]
  },
  {
   "cell_type": "code",
   "execution_count": 24,
   "id": "de4b62d4",
   "metadata": {},
   "outputs": [],
   "source": [
    "# # # Create a scaler object\n",
    "# scaler = StandardScaler()\n",
    "\n",
    "# df_scaled = StandardScaler().fit_transform(df[['odometer','mmr']])\n",
    " \n",
    "# df_scaled"
   ]
  },
  {
   "cell_type": "code",
   "execution_count": 25,
   "id": "9b1be0ce",
   "metadata": {},
   "outputs": [],
   "source": [
    "# # Creating a DataFrame with with the scaled data\n",
    "# # transformed_df = pd.DataFrame(df_scaled, columns=['odometer','mmr'], index=df.index)\n",
    "# transformed_df = pd.DataFrame(df_scaled, columns=['odometer','mmr'])\n",
    "\n",
    "# # Display sample data\n",
    "# transformed_df.head(5)"
   ]
  },
  {
   "cell_type": "code",
   "execution_count": 26,
   "id": "5b2ffa27",
   "metadata": {},
   "outputs": [],
   "source": [
    "# transformed_df.hist(bins=60, figsize=(20,20))"
   ]
  },
  {
   "cell_type": "code",
   "execution_count": 27,
   "id": "883b1a36",
   "metadata": {},
   "outputs": [
    {
     "data": {
      "text/html": [
       "<div>\n",
       "<style scoped>\n",
       "    .dataframe tbody tr th:only-of-type {\n",
       "        vertical-align: middle;\n",
       "    }\n",
       "\n",
       "    .dataframe tbody tr th {\n",
       "        vertical-align: top;\n",
       "    }\n",
       "\n",
       "    .dataframe thead th {\n",
       "        text-align: right;\n",
       "    }\n",
       "</style>\n",
       "<table border=\"1\" class=\"dataframe\">\n",
       "  <thead>\n",
       "    <tr style=\"text-align: right;\">\n",
       "      <th></th>\n",
       "      <th>automatic</th>\n",
       "      <th>manual</th>\n",
       "    </tr>\n",
       "  </thead>\n",
       "  <tbody>\n",
       "    <tr>\n",
       "      <th>0</th>\n",
       "      <td>True</td>\n",
       "      <td>False</td>\n",
       "    </tr>\n",
       "    <tr>\n",
       "      <th>1</th>\n",
       "      <td>True</td>\n",
       "      <td>False</td>\n",
       "    </tr>\n",
       "    <tr>\n",
       "      <th>2</th>\n",
       "      <td>True</td>\n",
       "      <td>False</td>\n",
       "    </tr>\n",
       "    <tr>\n",
       "      <th>3</th>\n",
       "      <td>True</td>\n",
       "      <td>False</td>\n",
       "    </tr>\n",
       "    <tr>\n",
       "      <th>4</th>\n",
       "      <td>True</td>\n",
       "      <td>False</td>\n",
       "    </tr>\n",
       "  </tbody>\n",
       "</table>\n",
       "</div>"
      ],
      "text/plain": [
       "   automatic  manual\n",
       "0       True   False\n",
       "1       True   False\n",
       "2       True   False\n",
       "3       True   False\n",
       "4       True   False"
      ]
     },
     "execution_count": 27,
     "metadata": {},
     "output_type": "execute_result"
    }
   ],
   "source": [
    "# Transform the \"Method\" column using get_dummies()\n",
    "df_transmission = pd.get_dummies(df['transmission'])\n",
    "\n",
    "# Display the transformed data\n",
    "df_transmission.head(5)"
   ]
  },
  {
   "cell_type": "code",
   "execution_count": 28,
   "id": "13edd965",
   "metadata": {},
   "outputs": [
    {
     "name": "stdout",
     "output_type": "stream",
     "text": [
      "automatic    0\n",
      "manual       0\n",
      "dtype: int64\n"
     ]
    }
   ],
   "source": [
    "\n",
    "# Look for null values\n",
    "print(df_transmission.isnull().sum())\n",
    "\n"
   ]
  },
  {
   "cell_type": "code",
   "execution_count": 29,
   "id": "11ae3bf6",
   "metadata": {},
   "outputs": [],
   "source": [
    "\n",
    "df_model = pd.concat([df[['year', 'make', 'body', 'color', 'interior', 'sellingprice', 'odometer']], df_transmission[['automatic']]], axis=1)\n",
    "\n",
    "\n",
    "# df_model = pd.concat([transformed_df, df_transmission], axis=1)\n",
    "\n",
    "\n"
   ]
  },
  {
   "cell_type": "code",
   "execution_count": 30,
   "id": "bfdea2be",
   "metadata": {},
   "outputs": [
    {
     "data": {
      "text/html": [
       "<div>\n",
       "<style scoped>\n",
       "    .dataframe tbody tr th:only-of-type {\n",
       "        vertical-align: middle;\n",
       "    }\n",
       "\n",
       "    .dataframe tbody tr th {\n",
       "        vertical-align: top;\n",
       "    }\n",
       "\n",
       "    .dataframe thead th {\n",
       "        text-align: right;\n",
       "    }\n",
       "</style>\n",
       "<table border=\"1\" class=\"dataframe\">\n",
       "  <thead>\n",
       "    <tr style=\"text-align: right;\">\n",
       "      <th></th>\n",
       "      <th>year</th>\n",
       "      <th>make</th>\n",
       "      <th>body</th>\n",
       "      <th>color</th>\n",
       "      <th>interior</th>\n",
       "      <th>sellingprice</th>\n",
       "      <th>odometer</th>\n",
       "      <th>automatic</th>\n",
       "    </tr>\n",
       "  </thead>\n",
       "  <tbody>\n",
       "    <tr>\n",
       "      <th>0</th>\n",
       "      <td>2015</td>\n",
       "      <td>Kia</td>\n",
       "      <td>SUV</td>\n",
       "      <td>white</td>\n",
       "      <td>black</td>\n",
       "      <td>21500.0</td>\n",
       "      <td>16639.0</td>\n",
       "      <td>True</td>\n",
       "    </tr>\n",
       "    <tr>\n",
       "      <th>1</th>\n",
       "      <td>2015</td>\n",
       "      <td>Kia</td>\n",
       "      <td>SUV</td>\n",
       "      <td>white</td>\n",
       "      <td>beige</td>\n",
       "      <td>21500.0</td>\n",
       "      <td>9393.0</td>\n",
       "      <td>True</td>\n",
       "    </tr>\n",
       "    <tr>\n",
       "      <th>2</th>\n",
       "      <td>2014</td>\n",
       "      <td>BMW</td>\n",
       "      <td>Sedan</td>\n",
       "      <td>gray</td>\n",
       "      <td>black</td>\n",
       "      <td>30000.0</td>\n",
       "      <td>1331.0</td>\n",
       "      <td>True</td>\n",
       "    </tr>\n",
       "    <tr>\n",
       "      <th>3</th>\n",
       "      <td>2015</td>\n",
       "      <td>Volvo</td>\n",
       "      <td>Sedan</td>\n",
       "      <td>white</td>\n",
       "      <td>black</td>\n",
       "      <td>27750.0</td>\n",
       "      <td>14282.0</td>\n",
       "      <td>True</td>\n",
       "    </tr>\n",
       "    <tr>\n",
       "      <th>4</th>\n",
       "      <td>2014</td>\n",
       "      <td>BMW</td>\n",
       "      <td>Sedan</td>\n",
       "      <td>gray</td>\n",
       "      <td>black</td>\n",
       "      <td>67000.0</td>\n",
       "      <td>2641.0</td>\n",
       "      <td>True</td>\n",
       "    </tr>\n",
       "  </tbody>\n",
       "</table>\n",
       "</div>"
      ],
      "text/plain": [
       "   year   make   body  color interior  sellingprice  odometer  automatic\n",
       "0  2015    Kia    SUV  white    black       21500.0   16639.0       True\n",
       "1  2015    Kia    SUV  white    beige       21500.0    9393.0       True\n",
       "2  2014    BMW  Sedan   gray    black       30000.0    1331.0       True\n",
       "3  2015  Volvo  Sedan  white    black       27750.0   14282.0       True\n",
       "4  2014    BMW  Sedan   gray    black       67000.0    2641.0       True"
      ]
     },
     "execution_count": 30,
     "metadata": {},
     "output_type": "execute_result"
    }
   ],
   "source": [
    "df_model.head()"
   ]
  },
  {
   "cell_type": "code",
   "execution_count": 31,
   "id": "c7c9f75d",
   "metadata": {},
   "outputs": [
    {
     "name": "stdout",
     "output_type": "stream",
     "text": [
      "year            0\n",
      "make            0\n",
      "body            0\n",
      "color           0\n",
      "interior        0\n",
      "sellingprice    0\n",
      "odometer        0\n",
      "automatic       0\n",
      "dtype: int64\n"
     ]
    }
   ],
   "source": [
    "# Look for null values\n",
    "print(df_model.isnull().sum())"
   ]
  },
  {
   "cell_type": "code",
   "execution_count": 32,
   "id": "2c78a63b",
   "metadata": {},
   "outputs": [
    {
     "name": "stdout",
     "output_type": "stream",
     "text": [
      "<class 'pandas.core.frame.DataFrame'>\n",
      "RangeIndex: 440066 entries, 0 to 440065\n",
      "Data columns (total 8 columns):\n",
      " #   Column        Non-Null Count   Dtype  \n",
      "---  ------        --------------   -----  \n",
      " 0   year          440066 non-null  int64  \n",
      " 1   make          440066 non-null  object \n",
      " 2   body          440066 non-null  object \n",
      " 3   color         440066 non-null  object \n",
      " 4   interior      440066 non-null  object \n",
      " 5   sellingprice  440066 non-null  float64\n",
      " 6   odometer      440066 non-null  float64\n",
      " 7   automatic     440066 non-null  bool   \n",
      "dtypes: bool(1), float64(2), int64(1), object(4)\n",
      "memory usage: 23.9+ MB\n"
     ]
    }
   ],
   "source": [
    "df_model.info()"
   ]
  },
  {
   "cell_type": "code",
   "execution_count": 33,
   "id": "23e297d5",
   "metadata": {},
   "outputs": [
    {
     "data": {
      "text/html": [
       "<div>\n",
       "<style scoped>\n",
       "    .dataframe tbody tr th:only-of-type {\n",
       "        vertical-align: middle;\n",
       "    }\n",
       "\n",
       "    .dataframe tbody tr th {\n",
       "        vertical-align: top;\n",
       "    }\n",
       "\n",
       "    .dataframe thead th {\n",
       "        text-align: right;\n",
       "    }\n",
       "</style>\n",
       "<table border=\"1\" class=\"dataframe\">\n",
       "  <thead>\n",
       "    <tr style=\"text-align: right;\">\n",
       "      <th></th>\n",
       "      <th>year</th>\n",
       "      <th>make</th>\n",
       "      <th>body</th>\n",
       "      <th>color</th>\n",
       "      <th>interior</th>\n",
       "      <th>sellingprice</th>\n",
       "      <th>odometer</th>\n",
       "      <th>automatic</th>\n",
       "    </tr>\n",
       "  </thead>\n",
       "  <tbody>\n",
       "    <tr>\n",
       "      <th>0</th>\n",
       "      <td>2015</td>\n",
       "      <td>18</td>\n",
       "      <td>SUV</td>\n",
       "      <td>17</td>\n",
       "      <td>1</td>\n",
       "      <td>21500.0</td>\n",
       "      <td>16639.0</td>\n",
       "      <td>True</td>\n",
       "    </tr>\n",
       "    <tr>\n",
       "      <th>1</th>\n",
       "      <td>2015</td>\n",
       "      <td>18</td>\n",
       "      <td>SUV</td>\n",
       "      <td>17</td>\n",
       "      <td>0</td>\n",
       "      <td>21500.0</td>\n",
       "      <td>9393.0</td>\n",
       "      <td>True</td>\n",
       "    </tr>\n",
       "    <tr>\n",
       "      <th>2</th>\n",
       "      <td>2014</td>\n",
       "      <td>2</td>\n",
       "      <td>Sedan</td>\n",
       "      <td>8</td>\n",
       "      <td>1</td>\n",
       "      <td>30000.0</td>\n",
       "      <td>1331.0</td>\n",
       "      <td>True</td>\n",
       "    </tr>\n",
       "    <tr>\n",
       "      <th>3</th>\n",
       "      <td>2015</td>\n",
       "      <td>40</td>\n",
       "      <td>Sedan</td>\n",
       "      <td>17</td>\n",
       "      <td>1</td>\n",
       "      <td>27750.0</td>\n",
       "      <td>14282.0</td>\n",
       "      <td>True</td>\n",
       "    </tr>\n",
       "    <tr>\n",
       "      <th>4</th>\n",
       "      <td>2014</td>\n",
       "      <td>2</td>\n",
       "      <td>Sedan</td>\n",
       "      <td>8</td>\n",
       "      <td>1</td>\n",
       "      <td>67000.0</td>\n",
       "      <td>2641.0</td>\n",
       "      <td>True</td>\n",
       "    </tr>\n",
       "  </tbody>\n",
       "</table>\n",
       "</div>"
      ],
      "text/plain": [
       "   year  make   body  color  interior  sellingprice  odometer  automatic\n",
       "0  2015    18    SUV     17         1       21500.0   16639.0       True\n",
       "1  2015    18    SUV     17         0       21500.0    9393.0       True\n",
       "2  2014     2  Sedan      8         1       30000.0    1331.0       True\n",
       "3  2015    40  Sedan     17         1       27750.0   14282.0       True\n",
       "4  2014     2  Sedan      8         1       67000.0    2641.0       True"
      ]
     },
     "execution_count": 33,
     "metadata": {},
     "output_type": "execute_result"
    }
   ],
   "source": [
    "# Use Pandas .astype(\"category\").cat.codes for single column category encoding\n",
    "columns_to_encode = [\"make\",\n",
    "                     \"color\",\n",
    "                     \"interior\"]\n",
    "\n",
    "# Copy car_data\n",
    "df_model_cat_codes = df_model.copy()\n",
    "\n",
    "# Loop through columns_to_encode and convert the columns to category codes\n",
    "for column in columns_to_encode:\n",
    "    df_model_cat_codes[column] = df_model_cat_codes[column].astype(\"category\").cat.codes\n",
    "\n",
    "df_model_cat_codes.head()"
   ]
  },
  {
   "cell_type": "code",
   "execution_count": 34,
   "id": "df249d5e",
   "metadata": {},
   "outputs": [
    {
     "data": {
      "text/plain": [
       "year              int64\n",
       "make               int8\n",
       "body             object\n",
       "color              int8\n",
       "interior           int8\n",
       "sellingprice    float64\n",
       "odometer        float64\n",
       "automatic          bool\n",
       "dtype: object"
      ]
     },
     "execution_count": 34,
     "metadata": {},
     "output_type": "execute_result"
    }
   ],
   "source": [
    "df_model_cat_codes.dtypes"
   ]
  },
  {
   "cell_type": "code",
   "execution_count": 35,
   "id": "b0642d7c",
   "metadata": {},
   "outputs": [
    {
     "name": "stdout",
     "output_type": "stream",
     "text": [
      "year            0\n",
      "make            0\n",
      "body            0\n",
      "color           0\n",
      "interior        0\n",
      "sellingprice    0\n",
      "odometer        0\n",
      "automatic       0\n",
      "dtype: int64\n"
     ]
    }
   ],
   "source": [
    "# Look for null values\n",
    "print(df_model_cat_codes.isnull().sum())"
   ]
  },
  {
   "cell_type": "code",
   "execution_count": 38,
   "id": "7a933a14",
   "metadata": {},
   "outputs": [
    {
     "data": {
      "text/plain": [
       "Index(['year', 'make', 'body', 'transmission', 'odometer', 'color', 'interior',\n",
       "       'mmr', 'sellingprice'],\n",
       "      dtype='object')"
      ]
     },
     "execution_count": 38,
     "metadata": {},
     "output_type": "execute_result"
    }
   ],
   "source": [
    "# Extract list of column headers\n",
    "df.columns"
   ]
  },
  {
   "cell_type": "code",
   "execution_count": 39,
   "id": "66419cbb",
   "metadata": {},
   "outputs": [
    {
     "name": "stdout",
     "output_type": "stream",
     "text": [
      "Number of unique values:\n",
      "year                26\n",
      "make                41\n",
      "body                11\n",
      "transmission         2\n",
      "odometer        157678\n",
      "color               19\n",
      "interior            16\n",
      "mmr               1076\n",
      "sellingprice      1750\n",
      "dtype: int64\n"
     ]
    }
   ],
   "source": [
    "# Number of unique values\n",
    "unique_values = df[['year', 'make', 'body', 'transmission', 'odometer', 'color', 'interior',\n",
    "       'mmr', 'sellingprice']].nunique()\n",
    "\n",
    "# Displaying the results\n",
    "print(\"Number of unique values:\")\n",
    "print(unique_values)"
   ]
  },
  {
   "cell_type": "code",
   "execution_count": 40,
   "id": "dcae58fe",
   "metadata": {},
   "outputs": [
    {
     "name": "stdout",
     "output_type": "stream",
     "text": [
      "<class 'pandas.core.frame.DataFrame'>\n",
      "RangeIndex: 440066 entries, 0 to 440065\n",
      "Data columns (total 9 columns):\n",
      " #   Column        Non-Null Count   Dtype  \n",
      "---  ------        --------------   -----  \n",
      " 0   year          440066 non-null  int64  \n",
      " 1   make          440066 non-null  object \n",
      " 2   body          440066 non-null  object \n",
      " 3   transmission  440066 non-null  object \n",
      " 4   odometer      440066 non-null  float64\n",
      " 5   color         440066 non-null  object \n",
      " 6   interior      440066 non-null  object \n",
      " 7   mmr           440066 non-null  float64\n",
      " 8   sellingprice  440066 non-null  float64\n",
      "dtypes: float64(3), int64(1), object(5)\n",
      "memory usage: 30.2+ MB\n"
     ]
    }
   ],
   "source": [
    "# Inspect data types, columns, assess missing values\n",
    "df.info()"
   ]
  },
  {
   "cell_type": "code",
   "execution_count": 41,
   "id": "497c2faf",
   "metadata": {},
   "outputs": [
    {
     "data": {
      "text/plain": [
       "array(['SUV', 'Sedan', 'Convertible', 'Coupe', 'Wagon', 'Hatchback',\n",
       "       'Crew_Truck', 'Minivan', 'Van', 'Ext_Truck', 'Truck'], dtype=object)"
      ]
     },
     "execution_count": 41,
     "metadata": {},
     "output_type": "execute_result"
    }
   ],
   "source": [
    "df['body'].unique()"
   ]
  },
  {
   "cell_type": "code",
   "execution_count": 42,
   "id": "fc40c315",
   "metadata": {},
   "outputs": [
    {
     "data": {
      "text/plain": [
       "array([[<Axes: title={'center': 'year'}>,\n",
       "        <Axes: title={'center': 'odometer'}>],\n",
       "       [<Axes: title={'center': 'mmr'}>,\n",
       "        <Axes: title={'center': 'sellingprice'}>]], dtype=object)"
      ]
     },
     "execution_count": 42,
     "metadata": {},
     "output_type": "execute_result"
    },
    {
     "data": {
      "image/png": "[encoded data removed]",
      "text/plain": [
       "<Figure size 2000x2000 with 4 Axes>"
      ]
     },
     "metadata": {},
     "output_type": "display_data"
    }
   ],
   "source": [
    "df.hist(bins=60, figsize=(20,20))"
   ]
  },
  {
   "cell_type": "code",
   "execution_count": 43,
   "id": "a88970a7",
   "metadata": {},
   "outputs": [],
   "source": [
    "df_model_cat_codes.to_csv('Resources/model_car_prices_no_mmr.csv', index=False)"
   ]
  },
  {
   "cell_type": "code",
   "execution_count": null,
   "id": "2126ca72",
   "metadata": {},
   "outputs": [],
   "source": []
  },
  {
   "cell_type": "code",
   "execution_count": null,
   "id": "e209990a",
   "metadata": {},
   "outputs": [],
   "source": []
  }
 ],
 "metadata": {
  "kernelspec": {
   "display_name": "Python 3 (ipykernel)",
   "language": "python",
   "name": "python3"
  },
  "language_info": {
   "codemirror_mode": {
    "name": "ipython",
    "version": 3
   },
   "file_extension": ".py",
   "mimetype": "text/x-python",
   "name": "python",
   "nbconvert_exporter": "python",
   "pygments_lexer": "ipython3",
   "version": "3.10.13"
  }
 },
 "nbformat": 4,
 "nbformat_minor": 5
}
