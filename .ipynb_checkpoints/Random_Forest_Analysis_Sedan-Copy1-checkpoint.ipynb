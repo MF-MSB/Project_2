{
 "cells": [
  {
   "cell_type": "code",
   "execution_count": 2,
   "metadata": {},
   "outputs": [],
   "source": [
    "%matplotlib inline\n",
    "from matplotlib import pyplot as plt\n",
    "import pandas as pd\n",
    "from sklearn.ensemble import RandomForestRegressor\n",
    "from sklearn.model_selection import train_test_split\n",
    "from sklearn.preprocessing import StandardScaler\n",
    "from sklearn.metrics import mean_squared_error, r2_score, mean_absolute_error"
   ]
  },
  {
   "cell_type": "code",
   "execution_count": 3,
   "metadata": {},
   "outputs": [
    {
     "data": {
      "text/html": [
       "<div>\n",
       "<style scoped>\n",
       "    .dataframe tbody tr th:only-of-type {\n",
       "        vertical-align: middle;\n",
       "    }\n",
       "\n",
       "    .dataframe tbody tr th {\n",
       "        vertical-align: top;\n",
       "    }\n",
       "\n",
       "    .dataframe thead th {\n",
       "        text-align: right;\n",
       "    }\n",
       "</style>\n",
       "<table border=\"1\" class=\"dataframe\">\n",
       "  <thead>\n",
       "    <tr style=\"text-align: right;\">\n",
       "      <th></th>\n",
       "      <th>year</th>\n",
       "      <th>make</th>\n",
       "      <th>body</th>\n",
       "      <th>odometer</th>\n",
       "      <th>color</th>\n",
       "      <th>interior</th>\n",
       "      <th>mmr</th>\n",
       "      <th>sellingprice</th>\n",
       "      <th>transmission_automatic</th>\n",
       "    </tr>\n",
       "  </thead>\n",
       "  <tbody>\n",
       "    <tr>\n",
       "      <th>0</th>\n",
       "      <td>2014</td>\n",
       "      <td>3</td>\n",
       "      <td>Sedan</td>\n",
       "      <td>-1.341797</td>\n",
       "      <td>8</td>\n",
       "      <td>1</td>\n",
       "      <td>3.181060</td>\n",
       "      <td>30000.0</td>\n",
       "      <td>True</td>\n",
       "    </tr>\n",
       "    <tr>\n",
       "      <th>1</th>\n",
       "      <td>2015</td>\n",
       "      <td>52</td>\n",
       "      <td>Sedan</td>\n",
       "      <td>-1.053440</td>\n",
       "      <td>17</td>\n",
       "      <td>1</td>\n",
       "      <td>2.495364</td>\n",
       "      <td>27750.0</td>\n",
       "      <td>True</td>\n",
       "    </tr>\n",
       "    <tr>\n",
       "      <th>2</th>\n",
       "      <td>2015</td>\n",
       "      <td>36</td>\n",
       "      <td>Sedan</td>\n",
       "      <td>-1.247771</td>\n",
       "      <td>8</td>\n",
       "      <td>1</td>\n",
       "      <td>0.601910</td>\n",
       "      <td>10900.0</td>\n",
       "      <td>True</td>\n",
       "    </tr>\n",
       "    <tr>\n",
       "      <th>3</th>\n",
       "      <td>2014</td>\n",
       "      <td>7</td>\n",
       "      <td>Sedan</td>\n",
       "      <td>-0.734267</td>\n",
       "      <td>1</td>\n",
       "      <td>1</td>\n",
       "      <td>0.064263</td>\n",
       "      <td>9800.0</td>\n",
       "      <td>True</td>\n",
       "    </tr>\n",
       "    <tr>\n",
       "      <th>4</th>\n",
       "      <td>2014</td>\n",
       "      <td>2</td>\n",
       "      <td>Sedan</td>\n",
       "      <td>-1.158643</td>\n",
       "      <td>17</td>\n",
       "      <td>1</td>\n",
       "      <td>3.212228</td>\n",
       "      <td>32250.0</td>\n",
       "      <td>True</td>\n",
       "    </tr>\n",
       "  </tbody>\n",
       "</table>\n",
       "</div>"
      ],
      "text/plain": [
       "   year  make   body  odometer  color  interior       mmr  sellingprice  \\\n",
       "0  2014     3  Sedan -1.341797      8         1  3.181060       30000.0   \n",
       "1  2015    52  Sedan -1.053440     17         1  2.495364       27750.0   \n",
       "2  2015    36  Sedan -1.247771      8         1  0.601910       10900.0   \n",
       "3  2014     7  Sedan -0.734267      1         1  0.064263        9800.0   \n",
       "4  2014     2  Sedan -1.158643     17         1  3.212228       32250.0   \n",
       "\n",
       "   transmission_automatic  \n",
       "0                    True  \n",
       "1                    True  \n",
       "2                    True  \n",
       "3                    True  \n",
       "4                    True  "
      ]
     },
     "execution_count": 3,
     "metadata": {},
     "output_type": "execute_result"
    }
   ],
   "source": [
    "\n",
    "# Read in the CSV file as a pandas DataFrame.\n",
    "df = pd.read_csv('Resources/Sedan_model_car_prices.csv')\n",
    "\n",
    "# Review the DataFrame\n",
    "df.head()\n"
   ]
  },
  {
   "cell_type": "code",
   "execution_count": 4,
   "metadata": {},
   "outputs": [],
   "source": [
    "\n",
    "features = ['year','odometer', 'make', 'interior', 'color', 'transmission_automatic', ]\n",
    "\n",
    "X = df[features]\n",
    "X.head()\n",
    "\n",
    "y = df['sellingprice']"
   ]
  },
  {
   "cell_type": "code",
   "execution_count": 5,
   "metadata": {},
   "outputs": [],
   "source": [
    "# Split into training and testing sets\n",
    "X_train, X_test, y_train, y_test = train_test_split(X, y, random_state=1)\n"
   ]
  },
  {
   "cell_type": "code",
   "execution_count": 6,
   "metadata": {},
   "outputs": [
    {
     "name": "stdout",
     "output_type": "stream",
     "text": [
      "Training Score: 0.974123209663172\n",
      "Testing Score: 0.8139508156521351\n"
     ]
    }
   ],
   "source": [
    "# Train the Random Forest model\n",
    "clf = RandomForestRegressor(random_state=1, n_estimators=500).fit(X_train, y_train)\n",
    "\n",
    "# Evaluate the model\n",
    "print(f'Training Score: {clf.score(X_train, y_train)}')\n",
    "print(f'Testing Score: {clf.score(X_test, y_test)}')"
   ]
  },
  {
   "cell_type": "code",
   "execution_count": 7,
   "metadata": {},
   "outputs": [],
   "source": [
    "# Get the feature importance array\n",
    "feature_importances = clf.feature_importances_"
   ]
  },
  {
   "cell_type": "code",
   "execution_count": 8,
   "metadata": {},
   "outputs": [
    {
     "data": {
      "text/plain": [
       "[(0.5951758673119562, 'odometer'),\n",
       " (0.2529520989504264, 'make'),\n",
       " (0.10897858490593557, 'year'),\n",
       " (0.023952205070994794, 'color'),\n",
       " (0.015586209744262962, 'interior'),\n",
       " (0.0033550340164242064, 'transmission_automatic')]"
      ]
     },
     "execution_count": 8,
     "metadata": {},
     "output_type": "execute_result"
    }
   ],
   "source": [
    "# List the top 10 most important features\n",
    "importances_sorted = sorted(zip(feature_importances, X.columns), reverse=True)\n",
    "importances_sorted[:10]"
   ]
  },
  {
   "cell_type": "code",
   "execution_count": 9,
   "metadata": {},
   "outputs": [
    {
     "data": {
      "image/png": "[encoded data removed]",
      "text/plain": [
       "<Figure size 800x600 with 1 Axes>"
      ]
     },
     "metadata": {},
     "output_type": "display_data"
    }
   ],
   "source": [
    "# Plot the feature importances\n",
    "features = sorted(zip(X.columns, feature_importances), key = lambda x: x[1])\n",
    "cols = [f[0] for f in features]\n",
    "width = [f[1] for f in features]\n",
    "\n",
    "fig, ax = plt.subplots()\n",
    "\n",
    "fig.set_size_inches(8,6)\n",
    "plt.margins(y=0.001)\n",
    "\n",
    "ax.barh(y=cols, width=width)\n",
    "\n",
    "plt.show()"
   ]
  },
  {
   "cell_type": "code",
   "execution_count": 10,
   "metadata": {},
   "outputs": [
    {
     "name": "stdout",
     "output_type": "stream",
     "text": [
      "Mean Squared Error (MSE) on Test Data: 7924115.480936527\n",
      "R-squared (R2) on Test Data: 0.8139508156521351\n",
      "Mean Absolute Error (MAE) on Test Data: 1942.5167858782222\n"
     ]
    }
   ],
   "source": [
    "# Assuming X_test and y_test are your test data\n",
    "y_pred_test = clf.predict(X_test)\n",
    "\n",
    "# Evaluate the model's performance on the test data\n",
    "mse_test = mean_squared_error(y_test, y_pred_test)\n",
    "r2_test = r2_score(y_test, y_pred_test)\n",
    "mae_test = mean_absolute_error(y_test, y_pred_test)\n",
    "\n",
    "print(\"Mean Squared Error (MSE) on Test Data:\", mse_test)\n",
    "print(\"R-squared (R2) on Test Data:\", r2_test)\n",
    "print(\"Mean Absolute Error (MAE) on Test Data:\", mae_test)"
   ]
  },
  {
   "cell_type": "code",
   "execution_count": 12,
   "metadata": {},
   "outputs": [],
   "source": [
    "features = ['year', 'odometer', 'make']\n",
    "\n",
    "X = df[features]\n",
    "X.head()\n",
    "\n",
    "y = df['sellingprice']"
   ]
  },
  {
   "cell_type": "code",
   "execution_count": 13,
   "metadata": {},
   "outputs": [],
   "source": [
    "# Split into training and testing sets\n",
    "X_train, X_test, y_train, y_test = train_test_split(X, y, random_state=1)"
   ]
  },
  {
   "cell_type": "code",
   "execution_count": 14,
   "metadata": {},
   "outputs": [
    {
     "name": "stdout",
     "output_type": "stream",
     "text": [
      "Training Score: 0.9671955748583732\n",
      "Testing Score: 0.774829370589213\n"
     ]
    }
   ],
   "source": [
    "# Train the Random Forest model\n",
    "clf = RandomForestRegressor(random_state=1, n_estimators=500).fit(X_train, y_train)\n",
    "\n",
    "# Evaluate the model\n",
    "print(f'Training Score: {clf.score(X_train, y_train)}')\n",
    "print(f'Testing Score: {clf.score(X_test, y_test)}')"
   ]
  },
  {
   "cell_type": "code",
   "execution_count": 15,
   "metadata": {},
   "outputs": [],
   "source": [
    "# Get the feature importance array\n",
    "feature_importances = clf.feature_importances_"
   ]
  },
  {
   "cell_type": "code",
   "execution_count": 16,
   "metadata": {},
   "outputs": [
    {
     "data": {
      "text/plain": [
       "[(0.6387476765150255, 'odometer'),\n",
       " (0.252343165788415, 'make'),\n",
       " (0.10890915769655952, 'year')]"
      ]
     },
     "execution_count": 16,
     "metadata": {},
     "output_type": "execute_result"
    }
   ],
   "source": [
    "# List the top 10 most important features\n",
    "importances_sorted = sorted(zip(feature_importances, X.columns), reverse=True)\n",
    "importances_sorted[:10]"
   ]
  },
  {
   "cell_type": "code",
   "execution_count": 17,
   "metadata": {},
   "outputs": [
    {
     "data": {
      "image/png": "[encoded data removed]",
      "text/plain": [
       "<Figure size 800x600 with 1 Axes>"
      ]
     },
     "metadata": {},
     "output_type": "display_data"
    }
   ],
   "source": [
    "# Plot the feature importances\n",
    "features = sorted(zip(X.columns, feature_importances), key = lambda x: x[1])\n",
    "cols = [f[0] for f in features]\n",
    "width = [f[1] for f in features]\n",
    "\n",
    "fig, ax = plt.subplots()\n",
    "\n",
    "fig.set_size_inches(8,6)\n",
    "plt.margins(y=0.001)\n",
    "\n",
    "ax.barh(y=cols, width=width)\n",
    "\n",
    "plt.show()"
   ]
  },
  {
   "cell_type": "code",
   "execution_count": 16,
   "metadata": {},
   "outputs": [
    {
     "name": "stdout",
     "output_type": "stream",
     "text": [
      "Mean Squared Error (MSE) on Test Data: 18557360.937851194\n",
      "R-squared (R2) on Test Data: 0.7961447855516546\n",
      "Mean Absolute Error (MAE) on Test Data: 2589.0865234550542\n"
     ]
    }
   ],
   "source": [
    "# Assuming X_test and y_test are your test data\n",
    "y_pred_test = clf.predict(X_test)\n",
    "\n",
    "# Evaluate the model's performance on the test data\n",
    "mse_test = mean_squared_error(y_test, y_pred_test)\n",
    "r2_test = r2_score(y_test, y_pred_test)\n",
    "mae_test = mean_absolute_error(y_test, y_pred_test)\n",
    "\n",
    "print(\"Mean Squared Error (MSE) on Test Data:\", mse_test)\n",
    "print(\"R-squared (R2) on Test Data:\", r2_test)\n",
    "print(\"Mean Absolute Error (MAE) on Test Data:\", mae_test)"
   ]
  },
  {
   "cell_type": "code",
   "execution_count": null,
   "metadata": {},
   "outputs": [],
   "source": []
  },
  {
   "cell_type": "code",
   "execution_count": null,
   "metadata": {},
   "outputs": [],
   "source": []
  }
 ],
 "metadata": {
  "kernelspec": {
   "display_name": "Python 3 (ipykernel)",
   "language": "python",
   "name": "python3"
  },
  "language_info": {
   "codemirror_mode": {
    "name": "ipython",
    "version": 3
   },
   "file_extension": ".py",
   "mimetype": "text/x-python",
   "name": "python",
   "nbconvert_exporter": "python",
   "pygments_lexer": "ipython3",
   "version": "3.10.13"
  }
 },
 "nbformat": 4,
 "nbformat_minor": 4
}
